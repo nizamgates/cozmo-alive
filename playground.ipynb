{
 "cells": [
  {
   "cell_type": "code",
   "execution_count": 1,
   "id": "74a96279-5b8e-4d2b-a2f4-15c3c4d3a0af",
   "metadata": {},
   "outputs": [
    {
     "name": "stdout",
     "output_type": "stream",
     "text": [
      "Requirement already satisfied: pycozmo==0.8.0 in c:\\users\\nizam\\anaconda3\\envs\\cozmo-alive-env\\lib\\site-packages (from -r requirements.txt (line 1)) (0.8.0)\n",
      "Requirement already satisfied: numpy==2.0.2 in c:\\users\\nizam\\anaconda3\\envs\\cozmo-alive-env\\lib\\site-packages (from -r requirements.txt (line 2)) (2.0.2)\n",
      "Requirement already satisfied: pillow==10.4.0 in c:\\users\\nizam\\anaconda3\\envs\\cozmo-alive-env\\lib\\site-packages (from -r requirements.txt (line 3)) (10.4.0)\n",
      "Requirement already satisfied: dpkt==1.9.8 in c:\\users\\nizam\\anaconda3\\envs\\cozmo-alive-env\\lib\\site-packages (from -r requirements.txt (line 4)) (1.9.8)\n",
      "Requirement already satisfied: flatbuffers==24.3.25 in c:\\users\\nizam\\anaconda3\\envs\\cozmo-alive-env\\lib\\site-packages (from -r requirements.txt (line 5)) (24.3.25)\n",
      "Requirement already satisfied: gtts==2.5.3 in c:\\users\\nizam\\anaconda3\\envs\\cozmo-alive-env\\lib\\site-packages (from -r requirements.txt (line 6)) (2.5.3)\n",
      "Requirement already satisfied: click==8.1.7 in c:\\users\\nizam\\anaconda3\\envs\\cozmo-alive-env\\lib\\site-packages (from -r requirements.txt (line 7)) (8.1.7)\n",
      "Requirement already satisfied: pydub==0.25.1 in c:\\users\\nizam\\anaconda3\\envs\\cozmo-alive-env\\lib\\site-packages (from -r requirements.txt (line 8)) (0.25.1)\n",
      "Requirement already satisfied: requests<3,>=2.27 in c:\\users\\nizam\\anaconda3\\envs\\cozmo-alive-env\\lib\\site-packages (from gtts==2.5.3->-r requirements.txt (line 6)) (2.32.3)\n",
      "Requirement already satisfied: colorama in c:\\users\\nizam\\anaconda3\\envs\\cozmo-alive-env\\lib\\site-packages (from click==8.1.7->-r requirements.txt (line 7)) (0.4.6)\n",
      "Requirement already satisfied: charset-normalizer<4,>=2 in c:\\users\\nizam\\anaconda3\\envs\\cozmo-alive-env\\lib\\site-packages (from requests<3,>=2.27->gtts==2.5.3->-r requirements.txt (line 6)) (3.3.2)\n",
      "Requirement already satisfied: idna<4,>=2.5 in c:\\users\\nizam\\anaconda3\\envs\\cozmo-alive-env\\lib\\site-packages (from requests<3,>=2.27->gtts==2.5.3->-r requirements.txt (line 6)) (3.7)\n",
      "Requirement already satisfied: urllib3<3,>=1.21.1 in c:\\users\\nizam\\anaconda3\\envs\\cozmo-alive-env\\lib\\site-packages (from requests<3,>=2.27->gtts==2.5.3->-r requirements.txt (line 6)) (2.2.2)\n",
      "Requirement already satisfied: certifi>=2017.4.17 in c:\\users\\nizam\\anaconda3\\envs\\cozmo-alive-env\\lib\\site-packages (from requests<3,>=2.27->gtts==2.5.3->-r requirements.txt (line 6)) (2024.8.30)\n"
     ]
    }
   ],
   "source": [
    "!pip install -r requirements.txt"
   ]
  },
  {
   "cell_type": "code",
   "execution_count": null,
   "id": "2f61ab98-a579-4c18-a8d0-b0620b622d48",
   "metadata": {},
   "outputs": [],
   "source": [
    "!pip install pyttsx3"
   ]
  },
  {
   "cell_type": "code",
   "execution_count": 1,
   "id": "01cda5ef-6b09-4173-a5f1-9ae16019780b",
   "metadata": {},
   "outputs": [],
   "source": [
    "import pycozmo\n",
    "import pyttsx3\n",
    "import os\n",
    "\n",
    "class Cozmo():\n",
    "    def __init__(self,\n",
    "        temp_folder='temp_files',\n",
    "        mode='virtual'\n",
    "        ):\n",
    "        self.temp_folder = temp_folder\n",
    "        self.tts = pyttsx3.init()\n",
    "        voices = self.tts.getProperty('voices')\n",
    "        self.tts.setProperty('voice', voices[1].id)  # Change index for different voices\n",
    "        self.tts.setProperty('rate', 110)  # Speed of speech\n",
    "\n",
    "        self.mode = mode\n",
    "        if self.mode == 'physical':\n",
    "            self.start()\n",
    "\n",
    "    def start(self):\n",
    "        self.robot = pycozmo.Client()\n",
    "        self.robot.start()\n",
    "        self.robot.connect()\n",
    "        self.robot.wait_for_robot()\n",
    "\n",
    "    def say_text(self, text):\n",
    "        temp_wav = f'{self.temp_folder}/temp_say_text.wav'\n",
    "        self.tts.save_to_file(text, temp_wav)\n",
    "        self.tts.runAndWait()\n",
    "\n",
    "        if self.mode == 'physical':\n",
    "            self.robot.set_volume(65535)\n",
    "            self.robot.wait_for_robot()\n",
    "            self.robot.play_audio(temp_wav)\n",
    "            self.robot.wait_for(pycozmo.event.EvtAudioCompleted)\n",
    "            os.remove(temp_wav)\n",
    "\n",
    "    def exit(self):\n",
    "        self.robot.disconnect()\n",
    "        self.robot.stop()\n",
    "\n",
    "# cozmo = Cozmo(mode='virtual')\n",
    "cozmo = Cozmo(mode='physical')\n",
    "cozmo.say_text(\"Hello Neo\")"
   ]
  },
  {
   "cell_type": "code",
   "execution_count": 2,
   "id": "7403bef8-83d3-464b-b8f9-cd831e182957",
   "metadata": {},
   "outputs": [],
   "source": [
    "cozmo.tts.setProperty('rate', 110)\n",
    "cozmo.say_text(\"Neo stop!!!!!\")"
   ]
  },
  {
   "cell_type": "code",
   "execution_count": 3,
   "id": "df472a69-d016-4697-bb7f-74bb3e594451",
   "metadata": {},
   "outputs": [],
   "source": [
    "cozmo.exit()"
   ]
  },
  {
   "cell_type": "code",
   "execution_count": null,
   "id": "61b9e750-5cbd-4435-b06c-ae176c4a163a",
   "metadata": {},
   "outputs": [],
   "source": []
  }
 ],
 "metadata": {
  "kernelspec": {
   "display_name": "cozmo-alive-env",
   "language": "python",
   "name": "cozmo-alive-env"
  },
  "language_info": {
   "codemirror_mode": {
    "name": "ipython",
    "version": 3
   },
   "file_extension": ".py",
   "mimetype": "text/x-python",
   "name": "python",
   "nbconvert_exporter": "python",
   "pygments_lexer": "ipython3",
   "version": "3.9.19"
  }
 },
 "nbformat": 4,
 "nbformat_minor": 5
}
